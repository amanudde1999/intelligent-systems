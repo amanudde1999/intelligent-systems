{
 "cells": [
  {
   "cell_type": "markdown",
   "metadata": {},
   "source": [
    "<h1><center>ECE 449 - Intelligent Systems Engineering<br><br>\n",
    "Lab 3-D41: Fuzzy Logic Concepts</center></h1>\n",
    "<hr>\n",
    "<b> Lab date:</b> <i> Thursday, October 21, 2021 -- 2:00 - 4:50 PM </i>\n",
    "<br>\n",
    "<b> Room:</b> <i>  ETLC E5-013 </i>\n",
    "<br>\n",
    "<b> Lab report due:</b> <i>Wednesday, November 3, 2021 -- 3:50 PM </i>\n",
    "<hr>\n",
    "\n",
    "<h2>1. Objectives</h2>\n",
    "The objectives of this lab are to become familiar with the basic concepts of fuzzy logic.  These concepts include:\n",
    "<ul>\n",
    "    <li>defining membership functions and modifying them with linguistic terms</li>\n",
    "    <li>performing various operations on fuzzy sets</li>\n",
    "    <li>representing fuzzy sets using $\\alpha$-cuts</li>\n",
    "    <li>constructing fuzzy relations, projections, and cylindrical extensions</li>\n",
    "    <li>performing composition and using it in compositional rules of inference</li>\n",
    "</ul>\n",
    "\n",
    "<h2>2. Expectations</h2>\n",
    "Complete the pre-lab, and hand it in before the lab starts.  A formal lab report is required for this lab, which will be the completed version of this notebook.  There is a marking guide at the end of the lab manual.  If figures are required, label the axes and provide a legend when appropriate.  An abstract, introduction, and conclusion are required as well, for which cells are provided at the end of the notebook.  The abstract should be a brief description of the topic, the introduction a description of the goals of the lab, and the conclusion a summary of what you learned, what you found difficult, and your own ideas and observations.\n",
    "\n",
    "<h2>3. Pre-lab</h2>\n",
    "&emsp;1. Why is defuzzification an important step when using fuzzy sets?\n",
    "<br><br>\n",
    "We also strongly recommend that you look over section 1 of the Python supplement to familiarize yourself with Jupyter notebooks and install the necessary libraries for future labs.\n",
    "\n",
    "<h2>4. Introduction</h2>\n",
    "<i>Fuzzy logic</i> is a form of logic in which the truth values of variables can range from the interval of 0 to 1, instead of exclusively 0 or 1.  This can be used to solve problems in a more human-like reasoning way by allowing gradual membership in sets. These fuzzy sets form inputs and outputs to linguistic relations that can be easily constructed, such as:\n",
    "\n",
    "<center><b>IF</b> <i>temp</i> <b>IS</b> HOT <b>THEN</b> <i>fan</i> <b>IS</b> HIGH</center>\n",
    "\n",
    "An important concept is the <i>linguistic variable</i>, which is a variable whose values are words. In the example above, the <i>linguistic variable</i> \"temp\" takes the value \"HOT\".\n",
    "<br>\n",
    "Employing fuzzy systems requires the user to first define membership functions that take values from 0 to 1, and are defined over the region of interest, called the <i>universe set</i>. One can apply linguistic modifiers (<i>hedges</i>) to modify the meaning of a fuzzy set, such as:\n",
    "\n",
    "<center><i>temp</i> <b>IS</b> VERY HOT, rather than <i>temp</i> <b>IS</b> HOT</center>\n",
    "A <i>hedge</i> in this case is VERY.\n",
    "\n",
    "<br>\n",
    "Similar to crisp sets, the <i>union</i>, <i>intersection</i>, and <i>complement</i> operators can be performed on fuzzy sets.  They may also be represented using a family of crisp sets, by using <i>$\\alpha$-cuts</i>.\n",
    "<br>\n",
    "Finally, similarly to crisp relations, which is the mapping between two crisp sets, fuzzy sets can form <i>relations</i> between two membership functions of different universes. These relations bring forth more operations, such as <i>cylindrical closure</i>, <i>sup-min composition</i>, <i>compositional rule of inference</i>, and <i>defuzzification</i>. <i>Cylindrical closure</i> is a fuzzy relation that corresponds to the cross-product domain of linguistic variables.\n",
    "\n",
    "<h2>5. Background</h2>\n",
    "Automatic monitoring stations are used to characterize the quality of the environment in the Arctic by collecting meteorological data at regular intervals.  Because of how remote these locations are, the monitoring stations are designed to generate and store power from renewable resources, namely the sun and wind, to minimize the frequency of maintenance required.  However, due to the polar nights and long winters, solar radiation reaching the ground during these times is very low or non-existent.  Consequently, this can lead to long intervals during which there is no remaining power, and no data is collected.  To avoid this, the duty cycle of the monitoring station can be adjusted in order to conserve power.  A controller to determine the optimal duty cycle can be built using fuzzy logic based on two factors: <i>state of charge</i> (SOC) of the battery and <i>future average power</i> (P) from the renewable resources.  For example, one such rule could be as follows:\n",
    "\n",
    "<center><b>IF</b> <i>state of charge</i> <b>IS</b> LOW <b>AND</b> <i>future average power</i> <b>IS</b> MEDIUM <b>THEN</b> <i>duty cycle<i> <b>IS</b> MEDIUM</center>\n",
    "<br>\n",
    "In the case where this rule would apply, the monitoring station could only take measurements for around half of its regular period to conserve power, and obtain data more frequently than what the previous method would offer.  The next two labs will focus on this concept and work towards building a fuzzy controller to manage the power consumption of a monitoring station."
   ]
  },
  {
   "cell_type": "markdown",
   "metadata": {},
   "source": [
    "<h2>6. Experimental Procedure</h2>\n",
    "If you have not yet installed the skfuzzy library, run the cell below."
   ]
  },
  {
   "cell_type": "code",
   "execution_count": 37,
   "metadata": {},
   "outputs": [
    {
     "name": "stdout",
     "output_type": "stream",
     "text": [
      "Requirement already satisfied: scikit-fuzzy in /home/jupyter/.local/lib/python3.9/site-packages (0.4.2)\n",
      "Requirement already satisfied: networkx>=1.9.0 in /opt/conda/lib/python3.9/site-packages (from scikit-fuzzy) (2.3)\n",
      "Requirement already satisfied: scipy>=0.9.0 in /opt/conda/lib/python3.9/site-packages (from scikit-fuzzy) (1.7.1)\n",
      "Requirement already satisfied: numpy>=1.6.0 in /opt/conda/lib/python3.9/site-packages (from scikit-fuzzy) (1.21.2)\n",
      "Requirement already satisfied: decorator>=4.3.0 in /opt/conda/lib/python3.9/site-packages (from networkx>=1.9.0->scikit-fuzzy) (5.0.9)\n"
     ]
    }
   ],
   "source": [
    "%%bash\n",
    "# \"--user\" is essential to install in local environment\"\n",
    "pip install --user -U scikit-fuzzy"
   ]
  },
  {
   "cell_type": "markdown",
   "metadata": {},
   "source": [
    "Run the cell below to import the libraries required to complete this lab."
   ]
  },
  {
   "cell_type": "code",
   "execution_count": 38,
   "metadata": {},
   "outputs": [],
   "source": [
    "%matplotlib inline\n",
    "\n",
    "import numpy as np                          # General math operations\n",
    "import matplotlib.pyplot as plt             # Data visualization\n",
    "from mpl_toolkits.mplot3d import Axes3D     # 3D data visualization\n",
    "import skfuzzy as fuzz                      # Fuzzy toolbox"
   ]
  },
  {
   "cell_type": "markdown",
   "metadata": {},
   "source": [
    "<h4>Exercise 1:&nbsp;&nbsp; Membership functions</h4>\n",
    "Consider a weather station with a battery that has a minimum SOC of 20% and a maximum SOC of 100%.\n",
    "<br>\n",
    "<ol>\n",
    "    <li>Define the universe set for SOC from 20 to 100, using 81 discrete elements.</li>\n",
    "</ol>"
   ]
  },
  {
   "cell_type": "code",
   "execution_count": 39,
   "metadata": {},
   "outputs": [
    {
     "name": "stdout",
     "output_type": "stream",
     "text": [
      "[ 20  21  22  23  24  25  26  27  28  29  30  31  32  33  34  35  36  37\n",
      "  38  39  40  41  42  43  44  45  46  47  48  49  50  51  52  53  54  55\n",
      "  56  57  58  59  60  61  62  63  64  65  66  67  68  69  70  71  72  73\n",
      "  74  75  76  77  78  79  80  81  82  83  84  85  86  87  88  89  90  91\n",
      "  92  93  94  95  96  97  98  99 100]\n"
     ]
    }
   ],
   "source": [
    "universe_set = np.arange(20,101)\n",
    "print(universe_set)"
   ]
  },
  {
   "cell_type": "markdown",
   "metadata": {},
   "source": [
    "<ol start=2>\n",
    "    <li>Plot the trapezoidal membership functions, LOW, MEDIUM, and HIGH, on one figure according to the parameters given below.</li>\n",
    "</ol>\n",
    "\n",
    "\\begin{array}{l c c c c}\n",
    "\\hline\n",
    "Fuzzy\\ set & a & b & c & d \\\\\n",
    "\\hline\n",
    "LOW & 20 & 20 & 22 & 38 \\\\\n",
    "MEDIUM & 22 & 38 & 42 & 58 \\\\\n",
    "HIGH & 42 & 58 & 100 & 100\\\\\n",
    "\\hline\n",
    "\\end{array}"
   ]
  },
  {
   "cell_type": "code",
   "execution_count": 40,
   "metadata": {},
   "outputs": [
    {
     "data": {
      "text/plain": [
       "<matplotlib.legend.Legend at 0x7fc2777d2370>"
      ]
     },
     "execution_count": 40,
     "metadata": {},
     "output_type": "execute_result"
    },
    {
     "data": {
      "image/png": "[encoded data removed]",
      "text/plain": [
       "<Figure size 432x288 with 1 Axes>"
      ]
     },
     "metadata": {
      "needs_background": "light"
     },
     "output_type": "display_data"
    }
   ],
   "source": [
    "low = [20,20,22,38]\n",
    "medium = [22,38,42,58]\n",
    "high = [42,58,100,100]\n",
    "y_low = fuzz.trapmf(universe_set,low)\n",
    "y_medium = fuzz.trapmf(universe_set,medium)\n",
    "y_high = fuzz.trapmf(universe_set,high)\n",
    "\n",
    "plt.plot(universe_set,y_low, label = \"LOW\")\n",
    "plt.plot(universe_set,y_medium, label = \"MEDIUM\")\n",
    "plt.plot(universe_set,y_high, label = \"HIGH\")\n",
    "plt.xlabel(\"State of Charge\")\n",
    "plt.ylabel(\"Membership\")\n",
    "plt.legend()\n"
   ]
  },
  {
   "cell_type": "markdown",
   "metadata": {},
   "source": [
    "<h4>Exercise 2:&nbsp;&nbsp; Linguistic modifiers</h4>\n",
    "Modify the fuzzy set HIGH SOC to VERY HIGH SOC and MORE OR LESS HIGH SOC.\n",
    "<br>\n",
    "<ol>\n",
    "    <li>Plot HIGH, VERY HIGH, and MORE OR LESS HIGH on the same figure.</li>\n",
    "</ol>"
   ]
  },
  {
   "cell_type": "code",
   "execution_count": 41,
   "metadata": {},
   "outputs": [
    {
     "data": {
      "text/plain": [
       "<matplotlib.legend.Legend at 0x7fc2776eb8e0>"
      ]
     },
     "execution_count": 41,
     "metadata": {},
     "output_type": "execute_result"
    },
    {
     "data": {
      "image/png": "[encoded data removed]",
      "text/plain": [
       "<Figure size 432x288 with 1 Axes>"
      ]
     },
     "metadata": {
      "needs_background": "light"
     },
     "output_type": "display_data"
    }
   ],
   "source": [
    "y_very_high = y_high**2\n",
    "y_more_or_less_high = y_high**0.5\n",
    "\n",
    "plt.plot(universe_set,y_high, label = \"HIGH\")\n",
    "plt.plot(universe_set, y_very_high, label = \"VERY HIGH\")\n",
    "plt.plot(universe_set, y_more_or_less_high, label = \"MORE OR LESS\")\n",
    "plt.ylabel(\"Membership\")\n",
    "plt.xlabel(\"State of Charge\")\n",
    "plt.legend()"
   ]
  },
  {
   "cell_type": "markdown",
   "metadata": {},
   "source": [
    "<h4>Exercise 3:&nbsp;&nbsp; Fuzzy set operations</h4>\n",
    "On separate figures, plot the following fuzzy sets:\n",
    "<br>\n",
    "<ol>\n",
    "    <li>Union of LOW and MEDIUM</li>\n",
    "</ol>"
   ]
  },
  {
   "cell_type": "code",
   "execution_count": 42,
   "metadata": {},
   "outputs": [
    {
     "data": {
      "text/plain": [
       "<matplotlib.legend.Legend at 0x7fc2778c5130>"
      ]
     },
     "execution_count": 42,
     "metadata": {},
     "output_type": "execute_result"
    },
    {
     "data": {
      "image/png": "[encoded data removed]",
      "text/plain": [
       "<Figure size 432x288 with 1 Axes>"
      ]
     },
     "metadata": {
      "needs_background": "light"
     },
     "output_type": "display_data"
    }
   ],
   "source": [
    "_, low_union_medium = fuzz.fuzzy_or(universe_set, y_low, universe_set, y_medium);\n",
    "plt.plot(universe_set, low_union_medium, label = \"LOW ∪ MEDIUM\")\n",
    "plt.xlabel(\"State of Charge\")\n",
    "plt.ylabel(\"Membership\")\n",
    "plt.legend()"
   ]
  },
  {
   "cell_type": "markdown",
   "metadata": {},
   "source": [
    "<ol start=2>\n",
    "    <li>Intersection of LOW and MEDIUM</li>\n",
    "</ol>"
   ]
  },
  {
   "cell_type": "code",
   "execution_count": 43,
   "metadata": {},
   "outputs": [
    {
     "data": {
      "text/plain": [
       "<matplotlib.legend.Legend at 0x7fc277882a90>"
      ]
     },
     "execution_count": 43,
     "metadata": {},
     "output_type": "execute_result"
    },
    {
     "data": {
      "image/png": "[encoded data removed]",
      "text/plain": [
       "<Figure size 432x288 with 1 Axes>"
      ]
     },
     "metadata": {
      "needs_background": "light"
     },
     "output_type": "display_data"
    }
   ],
   "source": [
    "_, low_intersect_medium = fuzz.fuzzy_and(universe_set, y_low, universe_set, y_medium);\n",
    "plt.plot(universe_set, low_intersect_medium, label = \"LOW ∩ MEDIUM\")\n",
    "plt.xlabel(\"State of Charge\")\n",
    "plt.ylabel(\"Membership\")\n",
    "ax = plt.gca()\n",
    "# Set the ylim of y-axis to 1 to keep it normalized\n",
    "ax.set_ylim([-0.05, 1.05])\n",
    "plt.legend()"
   ]
  },
  {
   "cell_type": "markdown",
   "metadata": {},
   "source": [
    "<ol start=3>\n",
    "    <li>Complement of HIGH</li>\n",
    "</ol>"
   ]
  },
  {
   "cell_type": "code",
   "execution_count": 44,
   "metadata": {},
   "outputs": [
    {
     "data": {
      "text/plain": [
       "<matplotlib.legend.Legend at 0x7fc27793d340>"
      ]
     },
     "execution_count": 44,
     "metadata": {},
     "output_type": "execute_result"
    },
    {
     "data": {
      "image/png": "[encoded data removed]",
      "text/plain": [
       "<Figure size 432x288 with 1 Axes>"
      ]
     },
     "metadata": {
      "needs_background": "light"
     },
     "output_type": "display_data"
    }
   ],
   "source": [
    "not_high = fuzz.fuzzy_not(y_high);\n",
    "plt.plot(universe_set, not_high, label = \"HIGH'\")\n",
    "plt.xlabel(\"State of Charge\")\n",
    "plt.ylabel(\"Membership\")\n",
    "ax = plt.gca()\n",
    "# Set the ylim of y-axis to 1.0 to keep it normalized\n",
    "ax.set_ylim([-0.05, 1.05])\n",
    "plt.legend()"
   ]
  },
  {
   "cell_type": "markdown",
   "metadata": {},
   "source": [
    "<h4>Exercise 4:&nbsp;&nbsp; $\\alpha$-cuts</h4>\n",
    "Using the HIGH SOC fuzzy set,\n",
    "<br>\n",
    "<ol>\n",
    "    <li>Plot the individual $\\alpha$-cuts for $\\alpha$ = {1.0, 0.75, 0.50, 0.25} on the same figure.</li>\n",
    "</ol>"
   ]
  },
  {
   "cell_type": "code",
   "execution_count": 45,
   "metadata": {},
   "outputs": [
    {
     "data": {
      "image/png": "[encoded data removed]",
      "text/plain": [
       "<Figure size 432x288 with 1 Axes>"
      ]
     },
     "metadata": {
      "needs_background": "light"
     },
     "output_type": "display_data"
    }
   ],
   "source": [
    "alpha_cuts = [1.0,0.75,0.50,0.25]\n",
    "for alphas in alpha_cuts:\n",
    "    plt.plot(universe_set, fuzz.defuzzify.lambda_cut(y_high, alphas), label=\"HIGH α={}\".format(alphas))\n",
    "\n",
    "#plt.plot(universe_set, y_high)\n",
    "plt.xlabel(\"State of Charge\")\n",
    "plt.ylabel(\"Membership\")\n",
    "plt.legend();"
   ]
  },
  {
   "cell_type": "markdown",
   "metadata": {},
   "source": [
    "<ol start=2>\n",
    "    <li>Plot the original fuzzy set and its $\\alpha$-cut reconstruction on the same figure.</li>\n",
    "</ol>\n",
    "&emsp;HINT: The <b>np.amax()</b> function is helpful in reconstructing the fuzzy set."
   ]
  },
  {
   "cell_type": "code",
   "execution_count": 46,
   "metadata": {},
   "outputs": [
    {
     "data": {
      "image/png": "[encoded data removed]",
      "text/plain": [
       "<Figure size 432x288 with 1 Axes>"
      ]
     },
     "metadata": {
      "needs_background": "light"
     },
     "output_type": "display_data"
    },
    {
     "data": {
      "image/png": "[encoded data removed]",
      "text/plain": [
       "<Figure size 432x288 with 1 Axes>"
      ]
     },
     "metadata": {
      "needs_background": "light"
     },
     "output_type": "display_data"
    }
   ],
   "source": [
    "def alpha_reconstruction(alpha_cuts):\n",
    "    matrix = [[]]\n",
    "    # Find all alpha cut membership functions\n",
    "    for i in range(len(alpha_cuts)):\n",
    "        matrix[0].append(fuzz.defuzzify.lambda_cut(y_high, alpha_cuts[i]))\n",
    "        # Multiply the membership values by alpha.\n",
    "        matrix[0][i] = matrix[0][i] * alpha_cuts[i]\n",
    "\n",
    "    reconstructed_plot = matrix[0][0]\n",
    "    # Apply OR to all the alpha cuts membership functions (which is basically max)\n",
    "    for i in range(len(matrix[0])):\n",
    "       _,reconstructed_plot = fuzz.fuzzy_or(universe_set, reconstructed_plot, universe_set, matrix[0][i])\n",
    "\n",
    "    plt.plot(universe_set, reconstructed_plot, label = \"HIGH reconstructed using {} alpha cuts\".format(len(alpha_cuts)))\n",
    "    plt.plot(universe_set, y_high, label = \"HIGH\")\n",
    "    plt.xlabel(\"State of Charge\")\n",
    "    plt.ylabel(\"Membership\")\n",
    "    plt.legend(bbox_to_anchor=(1.0, 1.2))\n",
    "    plt.show()\n",
    "\n",
    "alpha_reconstruction(alpha_cuts)\n",
    "alpha_reconstruction([0.1,0.2,0.3,0.4,0.5,0.6,0.7,0.8,0.9,1.0])"
   ]
  },
  {
   "cell_type": "markdown",
   "metadata": {},
   "source": [
    "<ol start=3>\n",
    "    <li>Comment on the quality of the $\\alpha$-cut reconstruction.</li>\n",
    "</ol>"
   ]
  },
  {
   "cell_type": "raw",
   "metadata": {},
   "source": [
    "For the given 4 alpha cuts 𝛼  = {1.0, 0.75, 0.50, 0.25}, we can see that the reconstructed HIGH membership function has lost some precision as seen from the first graph. However if we use a higher number of alpha cuts, for example, 𝛼 = {0.1,0.2,0.3,0.4,0.5,0.6,0.7,0.8,0.9,1.0} we would obtain a higher precision in terms of the reconstructed HIGH membership function as seen from the second graph."
   ]
  },
  {
   "cell_type": "markdown",
   "metadata": {},
   "source": [
    "<h4>Exercise 5:&nbsp;&nbsp; Relations - Cylindrical closure</h4>\n",
    "Based off of typical meteorological data, the locations in which the monitoring stations are situated can only provide future average power from 0W to 100W.\n",
    "<br>\n",
    "<ol>\n",
    "    <li>Define the universe set for future average power from 0 to 100, using 101 discrete elements.</li>\n",
    "</ol>"
   ]
  },
  {
   "cell_type": "code",
   "execution_count": 47,
   "metadata": {},
   "outputs": [
    {
     "name": "stdout",
     "output_type": "stream",
     "text": [
      "[  0   1   2   3   4   5   6   7   8   9  10  11  12  13  14  15  16  17\n",
      "  18  19  20  21  22  23  24  25  26  27  28  29  30  31  32  33  34  35\n",
      "  36  37  38  39  40  41  42  43  44  45  46  47  48  49  50  51  52  53\n",
      "  54  55  56  57  58  59  60  61  62  63  64  65  66  67  68  69  70  71\n",
      "  72  73  74  75  76  77  78  79  80  81  82  83  84  85  86  87  88  89\n",
      "  90  91  92  93  94  95  96  97  98  99 100]\n"
     ]
    }
   ],
   "source": [
    "universe_set2 = np.arange(0,101)\n",
    "print(universe_set2)"
   ]
  },
  {
   "cell_type": "markdown",
   "metadata": {},
   "source": [
    "<ol start=2>\n",
    "    <li>Plot the trapezoidal membership functions, SCARCE, AVERAGE, and ABUNDANT in one figure, according to the parameters given below.</li>\n",
    "</ol>\n",
    "\n",
    "\\begin{array}{l c c c c}\n",
    "\\hline\n",
    "Fuzzy\\ set & a & b & c & d \\\\\n",
    "\\hline\n",
    "SCARCE & 0 & 0 & 30 & 35 \\\\\n",
    "AVERAGE & 30 & 35 & 40 & 45 \\\\\n",
    "ABUNDANT & 40 & 45 & 100 & 100\\\\\n",
    "\\hline\n",
    "\\end{array}"
   ]
  },
  {
   "cell_type": "code",
   "execution_count": 48,
   "metadata": {},
   "outputs": [
    {
     "data": {
      "text/plain": [
       "<matplotlib.legend.Legend at 0x7fc27762fee0>"
      ]
     },
     "execution_count": 48,
     "metadata": {},
     "output_type": "execute_result"
    },
    {
     "data": {
      "image/png": "[encoded data removed]",
      "text/plain": [
       "<Figure size 432x288 with 1 Axes>"
      ]
     },
     "metadata": {
      "needs_background": "light"
     },
     "output_type": "display_data"
    }
   ],
   "source": [
    "scarce = [0,0,30,35]\n",
    "average = [30,35,40,45]\n",
    "abundant = [40,45,100,100]\n",
    "y_scarce = fuzz.trapmf(universe_set2,scarce)\n",
    "y_average = fuzz.trapmf(universe_set2,average)\n",
    "y_abundant = fuzz.trapmf(universe_set2,abundant)\n",
    "\n",
    "plt.plot(universe_set2,y_scarce, label = \"SCARCE\")\n",
    "plt.plot(universe_set2,y_average, label = \"AVERAGE\")\n",
    "plt.plot(universe_set2,y_abundant, label = \"ABUNDANT\")\n",
    "plt.xlabel(\"Future Average Power (W)\")\n",
    "plt.ylabel(\"Membership\")\n",
    "plt.legend()\n"
   ]
  },
  {
   "cell_type": "markdown",
   "metadata": {},
   "source": [
    "<ol start=3>\n",
    "    <li>Using <i>Larsen implication</i>, define the relation $R(MEDIUM,\\ AVERAGE)$.  Plot the relation matrix.</li>\n",
    "</ol>"
   ]
  },
  {
   "cell_type": "code",
   "execution_count": 49,
   "metadata": {},
   "outputs": [
    {
     "name": "stdout",
     "output_type": "stream",
     "text": [
      "[0. 0. 0. 0. 0. 0. 0. 0. 0. 0. 0. 0. 0. 0. 0. 0. 0. 0. 0. 0. 0. 0. 0. 0.\n",
      " 0. 0. 0. 0. 0. 0. 0. 0. 0. 0. 0. 0. 0. 0. 0. 0. 0. 0. 0. 0. 0. 0. 0. 0.\n",
      " 0. 0. 0. 0. 0. 0. 0. 0. 0. 0. 0. 0. 0. 0. 0. 0. 0. 0. 0. 0. 0. 0. 0. 0.\n",
      " 0. 0. 0. 0. 0. 0. 0. 0. 0. 0. 0. 0. 0. 0. 0. 0. 0. 0. 0. 0. 0. 0. 0. 0.\n",
      " 0. 0. 0. 0. 0.]\n"
     ]
    },
    {
     "data": {
      "image/png": "[encoded data removed]",
      "text/plain": [
       "<Figure size 432x288 with 2 Axes>"
      ]
     },
     "metadata": {
      "needs_background": "light"
     },
     "output_type": "display_data"
    }
   ],
   "source": [
    "# Larsen Implication uses product operator for implication\n",
    "res = fuzz.relation_product(y_medium,y_average)\n",
    "fig = plt.figure()\n",
    "ax = fig.add_subplot(111)\n",
    "cax = ax.matshow(res)\n",
    "fig.colorbar(cax)\n",
    "plt.xlabel(\"Medium\")\n",
    "plt.ylabel(\"Average\")\n",
    "print(res[0])\n",
    "\n",
    "\n",
    "\n"
   ]
  },
  {
   "cell_type": "markdown",
   "metadata": {},
   "source": [
    "<ol start=4>\n",
    "    <li>What is the meaning of the individual rows of the relation matrix?  What does the first row mean?</li>\n",
    "</ol>"
   ]
  },
  {
   "cell_type": "raw",
   "metadata": {},
   "source": [
    "Each row in the matrix represents the extent of how related future power in the AVERAGE fuzzy set to a single value battery level in the MEDIUM fuzzy set. The first row is filled with zeros, it means that there is no relation between all values of the AVERAGE power fuzzy set and when the MEDIUM battery level is zero."
   ]
  },
  {
   "cell_type": "markdown",
   "metadata": {},
   "source": [
    "<h4>Exercise 6:&nbsp;&nbsp; Sup-min composition</h4>\n",
    "Three monitoring stations positioned at different locations are checked, accordingly, the membership values of SOC fuzzy sets are assigned. The findings are expressed as a relation, $LocationSOC(location, state\\ of\\ charge)$, and defined using the following matrix:\n",
    "\n",
    "<center>\n",
    "$\n",
    "LocationSOC =\n",
    "  \\begin{bmatrix}\n",
    "    0.84 & 0.08 & 0 \\\\\n",
    "    0.03 & 0.5  & 0.08 \\\\\n",
    "    0    & 0.1  & 0.8 \n",
    "  \\end{bmatrix}\n",
    "$\n",
    "</center>\n",
    "\n",
    "Each row in the matrix corresponds to a monitoring station, and the columns give the membership values in the fuzzy sets, LOW, MEDIUM, and HIGH, respectively.  For example, the last monitoring station has a 0 LOW, 0.1 MEDIUM, and a 0.8 HIGH SOC.\n",
    "<br>\n",
    "Additionally, it was determined how the SOC of the monitoring station corresponds to the future average power of its location.  This is represented by the relation, $SOCPower(state\\ of\\ charge, future\\ average\\ power)$, found below.\n",
    "\n",
    "<center>\n",
    "$\n",
    "SOCPower =\n",
    "  \\begin{bmatrix}\n",
    "    1 & 0.3 & 0 \\\\\n",
    "    0.2 & 0.5  & 0.3 \\\\\n",
    "    0    & 0.5  & 1 \n",
    "  \\end{bmatrix}\n",
    "$\n",
    "</center>\n",
    "<ol>\n",
    "    <li>Determine the max-min composition $c_{1} = LocationSOC \\circ SOCPower$ and $c_{2} = SOCPower^{T} \\circ LocationSOC^{T}$ and print the resulting matrices.</li>\n",
    "</ol>"
   ]
  },
  {
   "cell_type": "code",
   "execution_count": 50,
   "metadata": {},
   "outputs": [
    {
     "name": "stdout",
     "output_type": "stream",
     "text": [
      "LocationSOC ∘ SOCPower:\n",
      "[[0.84 0.3  0.08]\n",
      " [0.2  0.5  0.3 ]\n",
      " [0.1  0.5  0.8 ]]\n",
      "SOCPower' ∘ LocationSOC' :\n",
      "[[0.84 0.2  0.1 ]\n",
      " [0.3  0.5  0.5 ]\n",
      " [0.08 0.3  0.8 ]]\n",
      "Is c1ᵀ = c2? True\n",
      "Is c2ᵀ = c1? True\n"
     ]
    }
   ],
   "source": [
    "location_soc = np.array([\n",
    "    [0.84, 0.08, 0], \n",
    "    [0.03, 0.5, 0.08],\n",
    "    [0, 0.1, 0.8]]);\n",
    "\n",
    "soc_power = np.array([\n",
    "    [1, 0.3, 0],\n",
    "    [0.2, 0.5, 0.3],\n",
    "    [0, 0.5, 1]\n",
    "]);\n",
    "\n",
    "c1 = fuzz.maxmin_composition(location_soc, soc_power)\n",
    "c2 = fuzz.maxmin_composition(np.transpose(soc_power), np.transpose(location_soc))\n",
    "\n",
    "print(\"LocationSOC ∘ SOCPower:\")\n",
    "print(c1)\n",
    "print(\"SOCPower' ∘ LocationSOC' :\")\n",
    "print(c2)\n",
    "\n",
    "print(\"Is c1ᵀ = c2? {}\".format(np.array_equal(np.transpose(c1), c2)))\n",
    "print(\"Is c2ᵀ = c1? {}\".format(np.array_equal(np.transpose(c2), c1)))"
   ]
  },
  {
   "cell_type": "markdown",
   "metadata": {},
   "source": [
    "<ol start=2>\n",
    "    <li>How can you interpret these relations?</li>\n",
    "</ol>"
   ]
  },
  {
   "cell_type": "raw",
   "metadata": {},
   "source": [
    "Each column in the relation corresponds to the future average power membership and each row in the relation corresponds to a monitoring station. The values obtained inside the matrix after composition indicate the degree of relation between the two (how related they are). The results obtained from the max-min composition c1 and c2 show an interesting result. c1 transposed is equivalent to c2 and vice versa."
   ]
  },
  {
   "cell_type": "markdown",
   "metadata": {},
   "source": [
    "<h4>Exercise 7:&nbsp;&nbsp; Compositional rule of inference</h4>\n",
    "Another monitoring station was checked and found to have a SOC of 28%.  Use a compositional rule of inference to determine the future average power fuzzy set based on the knowledge of a monitoring station with LOW SOC in a location with SCARCE future average power.\n",
    "<br>\n",
    "<ol>\n",
    "    <li>Express the item as a fuzzy singleton on the SOC universe set.</li>\n",
    "</ol>"
   ]
  },
  {
   "cell_type": "code",
   "execution_count": 51,
   "metadata": {},
   "outputs": [
    {
     "name": "stdout",
     "output_type": "stream",
     "text": [
      "[0. 0. 0. 0. 0. 0. 0. 0. 1. 0. 0. 0. 0. 0. 0. 0. 0. 0. 0. 0. 0. 0. 0. 0.\n",
      " 0. 0. 0. 0. 0. 0. 0. 0. 0. 0. 0. 0. 0. 0. 0. 0. 0. 0. 0. 0. 0. 0. 0. 0.\n",
      " 0. 0. 0. 0. 0. 0. 0. 0. 0. 0. 0. 0. 0. 0. 0. 0. 0. 0. 0. 0. 0. 0. 0. 0.\n",
      " 0. 0. 0. 0. 0. 0. 0. 0. 0.]\n"
     ]
    }
   ],
   "source": [
    "universe_set3 = np.zeros(81)\n",
    "# 28-20 since array starts at 20% we want 28% so 8th index would be 28\n",
    "universe_set3[28-20] = 1\n",
    "print(universe_set3)"
   ]
  },
  {
   "cell_type": "markdown",
   "metadata": {},
   "source": [
    "<ol start=2>\n",
    "    <li>Use <i>Mamdani implication</i> to define the relation between LOW and SCARCE.</li>\n",
    "</ol>"
   ]
  },
  {
   "cell_type": "code",
   "execution_count": 52,
   "metadata": {},
   "outputs": [
    {
     "name": "stdout",
     "output_type": "stream",
     "text": [
      "[[1. 1. 1. ... 0. 0. 0.]\n",
      " [1. 1. 1. ... 0. 0. 0.]\n",
      " [1. 1. 1. ... 0. 0. 0.]\n",
      " ...\n",
      " [0. 0. 0. ... 0. 0. 0.]\n",
      " [0. 0. 0. ... 0. 0. 0.]\n",
      " [0. 0. 0. ... 0. 0. 0.]]\n"
     ]
    }
   ],
   "source": [
    "relation_low_scarce = fuzz.relation_min(y_low,y_scarce)\n",
    "print(relation_low_scarce)"
   ]
  },
  {
   "cell_type": "markdown",
   "metadata": {},
   "source": [
    "<ol start=3>\n",
    "    <li>Use the relation from exercise 9 to derive the associated fuzzy set.  Print this fuzzy set as a vector.</li>\n",
    "</ol>"
   ]
  },
  {
   "cell_type": "code",
   "execution_count": 63,
   "metadata": {},
   "outputs": [
    {
     "name": "stdout",
     "output_type": "stream",
     "text": [
      "[[0.625 0.625 0.625 0.625 0.625 0.625 0.625 0.625 0.625 0.625 0.625 0.625\n",
      "  0.625 0.625 0.625 0.625 0.625 0.625 0.625 0.625 0.625 0.625 0.625 0.625\n",
      "  0.625 0.625 0.625 0.625 0.625 0.625 0.625 0.625 0.6   0.4   0.2   0.\n",
      "  0.    0.    0.    0.    0.    0.    0.    0.    0.    0.    0.    0.\n",
      "  0.    0.    0.    0.    0.    0.    0.    0.    0.    0.    0.    0.\n",
      "  0.    0.    0.    0.    0.    0.    0.    0.    0.    0.    0.    0.\n",
      "  0.    0.    0.    0.    0.    0.    0.    0.    0.    0.    0.    0.\n",
      "  0.    0.    0.    0.    0.    0.    0.    0.    0.    0.    0.    0.\n",
      "  0.    0.    0.    0.    0.   ]]\n"
     ]
    },
    {
     "data": {
      "image/png": "[encoded data removed]",
      "text/plain": [
       "<Figure size 432x288 with 1 Axes>"
      ]
     },
     "metadata": {
      "needs_background": "light"
     },
     "output_type": "display_data"
    }
   ],
   "source": [
    "fuzzy_set = fuzz.maxprod_composition(universe_set3, relation_low_scarce);\n",
    "fuzzy_set = np.transpose(fuzzy_set)\n",
    "print(np.transpose(fuzzy_set))\n",
    "plt.plot(np.arange(0,101),fuzzy_set);\n",
    "plt.ylim(top=1);\n",
    "plt.xlabel(\"Future Power\")\n",
    "plt.ylabel(\"Membership\")\n",
    "plt.show()"
   ]
  },
  {
   "cell_type": "markdown",
   "metadata": {
    "collapsed": true
   },
   "source": [
    "<h4>Exercise 8:&nbsp;&nbsp; Defuzzification</h4>\n",
    "Determine the crisp value of the fuzzy set obtained from the compositional rule of inference applied in the previous exercise.  Use the Mean of Maxima (MOM) defuzzification method.\n",
    "<br>\n",
    "<ol>\n",
    "    <li>Print the resulting future average power of the location.</li>\n",
    "</ol>"
   ]
  },
  {
   "cell_type": "code",
   "execution_count": 66,
   "metadata": {},
   "outputs": [
    {
     "name": "stdout",
     "output_type": "stream",
     "text": [
      "Future average power of the location = 15.5\n"
     ]
    }
   ],
   "source": [
    "defuzz_val = fuzz.defuzz(np.arange(0,101), fuzzy_set, 'mom');\n",
    "print(\"Future average power of the location = {}\".format(defuzz_val))"
   ]
  },
  {
   "cell_type": "markdown",
   "metadata": {},
   "source": [
    "<hr>\n",
    "<hr>"
   ]
  },
  {
   "cell_type": "markdown",
   "metadata": {},
   "source": [
    "<h2>Abstract</h2>"
   ]
  },
  {
   "cell_type": "raw",
   "metadata": {},
   "source": [
    "The purpose of this lab was to get familiarized with the basics of fuzzy sets including the (binary/unary) operations that can be performed on them and how they can form relations between two membership functions of different universes. The case provided to us was to help a station conserve power during polar nights and long winters. By providing a controller that is built using state of charge (SOC) of the battery and future average power (P), we can use it to determine the optimal duty cycle. We began by making plotting the trapezoidal membership functions of the LOW, MEDIUM and HIGH fuzzy sets. Afterwards, we applied linguistic hedges \"VERY\" and \"MORE OR LESS\" to the HIGH membership function and plotted it. From this, we saw that the \"VERY\" linguistic hedge resulted in concentration of the membership function while the \"MORE OR LESS\" linguistic hedge resulted in dilation of the membership function. Then we performed intersection and union operations on the LOW and MEDIUM fuzzy sets and plotted our results and performed the complement operation on the HIGH membership function and plotted all of the results. Later, we plotted the individual alpha cuts 1.0, 0.75, 0.50 and 0.25 of the HIGH membership function, and then proceeded to reconstruct the HIGH membership function using these alpha cuts. The result was imprecise when compared to the original HIGH membership function, however, if we use more alpha cuts then we would obtain a more accurate reconstruction. Afterwards, we plotted the SCARCE, AVERAGE and ABUNDANT trapezoidal membership functions and proceed to find a relation between the MEDIUM and AVERAGE fuzzy sets. This relation matrix was plotted. Given the SOCPower and LocationSOC matrices, we performed max-min composition twice, once on the original matrices and once on the transpose of the matrices. Using Mamdami implication, we found the relation between the LOW and SCARCE and then proceeded to find the associated fuzzy set. Finally, we found the crisp value of the fuzzy set by using defuzzification via the mean of maxima method and obtained 15.5 for the future average power of the location."
   ]
  },
  {
   "cell_type": "markdown",
   "metadata": {},
   "source": [
    "<h2>Introduction</h2>"
   ]
  },
  {
   "cell_type": "raw",
   "metadata": {},
   "source": [
    "In this lab we explored the basic concepts of fuzzy logic by utilizing the skfuzzy library to solve a case. Fuzzy logic is the approach where there is multiple \"degrees of truth (fulfilment)\" rather than the Boolean Logic which is just 1 or 0 (True or False). This is helpful for universes of discourse where their outcomes cannot be translated to a 0 or 1 but instead require a value ranging from 0 to 1 representing the degree of fulfilment. In this case, a controller is to be built to help a station conserve power during polar nights and long winters. This controller's design is going to be based on future average power (P) and state of charge (C) to determine the optimal duty cycle. We plotted the HIGH, MEDIUM and LOW membership functions (fuzzy sets) for the state of charge (SOC) variable and performed operations on them. Afterwards, the SCARCE, AVERAGE and ABUNDANT membership functions of the future average power (P) variable were plotted and operations were performed on them. Finally, by utilizing defuzzification via the Mean of Maxima method, the future avearge power crisp value of the location will be found."
   ]
  },
  {
   "cell_type": "markdown",
   "metadata": {},
   "source": [
    "<h2>Conclusion</h2>"
   ]
  },
  {
   "cell_type": "raw",
   "metadata": {},
   "source": [
    "In conclusion this lab served as a great introduction to putting our fuzzy logic knowledge to practical use by utilizing the skfuzzy library to perform operations. We started by plotting the LOW, MEDIUM and HIGH trapezoidal membership functions (fuzzy sets) for the state of charge (SOC) variable and performed operations on them. Firstly, we applied linguistic hedges \"VERY\" and \"MORE OR LESS\" to the HIGH membership function. As expected, the \"VERY\" linguistic hedge lead to a concentration (concavity) of the membership function and the \"MORE OR LESS\" linguistic hedge lead to a dilation (convexity)  of the membership function. Then we used the binary operations intersection and union on the LOW and MEDIUM membership functions. As expected the union of these two was the line representing their maximum(MEDIUM(x),LOW(x)) at each input value (overlap) and the intersection was the line representing thier minimum(MEDIUM(x),LOW(x)) (underlap). The complement of the HIGH membership function was also found and plotted and as expected, the result was 1-HIGH(x) at each input value (state of charge). Then we reconstructed the HIGH membership function after finding alpha cuts at levels 1.0, 0.75, 0.50 and 0.25. The reconstruction was imprecise when compared to the original HIGH membership function, however, if we use more alpha cuts we can obtain a more accurate reconstruction. Then, we plotted the SCARCE, AVERAGE and ABUNDANT trapezoidal membership functions. Afterwards, we found a relation between the MEDIUM and AVERAGE fuzzy sets and plotted the relation matrix. The two were related more in values of 30-40 in the MEDIUM fuzzy set and 5-35 in the AVERAGE fuzzy set. Using the provided SOCPower and LocationSOC matrices we found the max-min composition twice, once on the original matrices and once on the transpose of both of them. Looking at the results, we could see that the resulting matrices were the transpose of each other. By utilizing Mamdami implication, we found the relation between the LOW and SCARCE fuzzy sets and the associated fuzzy set. The last step of this lab was to use defuzzification with the Mean of Maxima method to obtain the crisp value of the future average power of the location and we obtained 15.5."
   ]
  },
  {
   "cell_type": "markdown",
   "metadata": {},
   "source": [
    "<center>\n",
    "<h3>Lab 1 Marking Guide</h3>\n",
    "<hr>\n",
    "</center>\n",
    "\n",
    "\\begin{array}{@{}clcc@{}}\n",
    "\\textbf{Exercise} & \\textbf{Item}           & \\textbf{Total Marks} & \\textbf{Earned Marks} \\\\ \n",
    "\\hline\n",
    "                  & Pre-lab                 & 10                    &               \\\\ \n",
    "                  & Abstract                & 3                     &               \\\\ \n",
    "                  & Introduction            & 3                     &               \\\\\n",
    "                  & Conclusion              & 4                     &               \\\\\n",
    "1                 & Membership\\ functions\t& 10                    &               \\\\\n",
    "2                 & Linguistic\\ modifiers   & 5                 \t&               \\\\\n",
    "3                 & Fuzzy\\ operations       & 10                 \t&               \\\\\n",
    "4                 & Alpha\\ cuts             & 10                 \t&               \\\\\n",
    "5                 & Fuzzy\\ relations        & 15                 \t&               \\\\\n",
    "6                 & Sup-min\\ composition    & 15                 \t&               \\\\\n",
    "7                 & CRI                     & 5                 \t&               \\\\\n",
    "8                 & Defuzzification         & 10                 \t&               \\\\\n",
    "\\hline\n",
    "                  & \\textbf{TOTAL}          & 100                   &\n",
    "\\end{array}"
   ]
  }
 ],
 "metadata": {
  "kernelspec": {
   "display_name": "Python 3 (ipykernel)",
   "language": "python",
   "name": "python3"
  },
  "language_info": {
   "codemirror_mode": {
    "name": "ipython",
    "version": 3
   },
   "file_extension": ".py",
   "mimetype": "text/x-python",
   "name": "python",
   "nbconvert_exporter": "python",
   "pygments_lexer": "ipython3",
   "version": "3.9.6"
  }
 },
 "nbformat": 4,
 "nbformat_minor": 2
}
